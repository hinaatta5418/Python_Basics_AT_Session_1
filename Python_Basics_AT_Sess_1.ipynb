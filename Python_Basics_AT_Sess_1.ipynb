{
 "cells": [
  {
   "cell_type": "code",
   "execution_count": 3,
   "id": "7f9278da",
   "metadata": {},
   "outputs": [
    {
     "name": "stdout",
     "output_type": "stream",
     "text": [
      "Hello world\n"
     ]
    }
   ],
   "source": [
    "print(\"Hello world\")"
   ]
  },
  {
   "cell_type": "code",
   "execution_count": 6,
   "id": "dd90fbdb",
   "metadata": {},
   "outputs": [
    {
     "name": "stdout",
     "output_type": "stream",
     "text": [
      "<class 'int'>\n"
     ]
    }
   ],
   "source": [
    "a=7\n",
    "print(type (a))"
   ]
  },
  {
   "cell_type": "code",
   "execution_count": 8,
   "id": "9510a01b",
   "metadata": {},
   "outputs": [
    {
     "name": "stdout",
     "output_type": "stream",
     "text": [
      "True\n"
     ]
    }
   ],
   "source": [
    "All_student=True\n",
    "print(All_student)"
   ]
  },
  {
   "cell_type": "code",
   "execution_count": 9,
   "id": "d89de661",
   "metadata": {},
   "outputs": [
    {
     "data": {
      "text/plain": [
       "('Ali', 34, 78.4)"
      ]
     },
     "execution_count": 9,
     "metadata": {},
     "output_type": "execute_result"
    }
   ],
   "source": [
    "d,f,g = \"Ali\", 34 , 78.4\n",
    "d,f,g"
   ]
  },
  {
   "cell_type": "code",
   "execution_count": 10,
   "id": "5135d543",
   "metadata": {},
   "outputs": [
    {
     "name": "stdout",
     "output_type": "stream",
     "text": [
      "Hello my name is  Hina\n"
     ]
    }
   ],
   "source": [
    "a=\"Hina\"\n",
    "print ( \"Hello my name is \",a)"
   ]
  },
  {
   "cell_type": "code",
   "execution_count": 13,
   "id": "af8edf19",
   "metadata": {},
   "outputs": [
    {
     "name": "stdout",
     "output_type": "stream",
     "text": [
      " My name is Hina\n"
     ]
    }
   ],
   "source": [
    "print ( f\" My name is {a}\")"
   ]
  },
  {
   "cell_type": "code",
   "execution_count": 15,
   "id": "974e450a",
   "metadata": {},
   "outputs": [
    {
     "name": "stdout",
     "output_type": "stream",
     "text": [
      " What is your name ? Hina\n"
     ]
    }
   ],
   "source": [
    "name= input (\" What is your name ? \")"
   ]
  },
  {
   "cell_type": "code",
   "execution_count": 16,
   "id": "756c1baf",
   "metadata": {},
   "outputs": [
    {
     "name": "stdout",
     "output_type": "stream",
     "text": [
      "<class 'int'>\n"
     ]
    }
   ],
   "source": [
    "a=40\n",
    "print ( type(a))"
   ]
  },
  {
   "cell_type": "code",
   "execution_count": 20,
   "id": "28b8044c",
   "metadata": {},
   "outputs": [
    {
     "name": "stdout",
     "output_type": "stream",
     "text": [
      "True\n"
     ]
    }
   ],
   "source": [
    "a=10\n",
    "print(bool(10)) "
   ]
  },
  {
   "cell_type": "code",
   "execution_count": 21,
   "id": "6d19a058",
   "metadata": {},
   "outputs": [
    {
     "data": {
      "text/plain": [
       "int"
      ]
     },
     "execution_count": 21,
     "metadata": {},
     "output_type": "execute_result"
    }
   ],
   "source": [
    "type(a)"
   ]
  },
  {
   "cell_type": "code",
   "execution_count": 24,
   "id": "85809875",
   "metadata": {},
   "outputs": [
    {
     "name": "stdout",
     "output_type": "stream",
     "text": [
      "120\n",
      "-40\n",
      "0.5\n"
     ]
    }
   ],
   "source": [
    "x=40\n",
    "y=80\n",
    "\n",
    "a=x+y\n",
    "b=x-y\n",
    "c=x/y\n",
    "print(a)\n",
    "print(b)\n",
    "print(c)\n"
   ]
  },
  {
   "cell_type": "code",
   "execution_count": null,
   "id": "e8c3cf6b",
   "metadata": {},
   "outputs": [],
   "source": []
  }
 ],
 "metadata": {
  "kernelspec": {
   "display_name": "Python 3 (ipykernel)",
   "language": "python",
   "name": "python3"
  },
  "language_info": {
   "codemirror_mode": {
    "name": "ipython",
    "version": 3
   },
   "file_extension": ".py",
   "mimetype": "text/x-python",
   "name": "python",
   "nbconvert_exporter": "python",
   "pygments_lexer": "ipython3",
   "version": "3.9.13"
  }
 },
 "nbformat": 4,
 "nbformat_minor": 5
}
